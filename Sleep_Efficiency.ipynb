{
  "nbformat": 4,
  "nbformat_minor": 0,
  "metadata": {
    "colab": {
      "provenance": [],
      "collapsed_sections": [
        "mAWh48Z0wGAw",
        "f_XwbXDb3SbC",
        "hvtDWWKbVhnx",
        "IJmec7IPKTEy"
      ],
      "authorship_tag": "ABX9TyMzqcp9ejxNoi9G16OFPu33",
      "include_colab_link": true
    },
    "kernelspec": {
      "name": "python3",
      "display_name": "Python 3"
    },
    "language_info": {
      "name": "python"
    },
    "widgets": {
      "application/vnd.jupyter.widget-state+json": {
        "1bdbe42f8f00417195dbf059ec47a9d0": {
          "model_module": "@jupyter-widgets/controls",
          "model_name": "IntTextModel",
          "model_module_version": "1.5.0",
          "state": {
            "_dom_classes": [],
            "_model_module": "@jupyter-widgets/controls",
            "_model_module_version": "1.5.0",
            "_model_name": "IntTextModel",
            "_view_count": null,
            "_view_module": "@jupyter-widgets/controls",
            "_view_module_version": "1.5.0",
            "_view_name": "IntTextView",
            "continuous_update": false,
            "description": "Age:",
            "description_tooltip": null,
            "disabled": false,
            "layout": "IPY_MODEL_b76d4674661a4ff886039905d3e50519",
            "step": 1,
            "style": "IPY_MODEL_7ca1339116a742ecadd1f1e1bcec5d38",
            "value": 25
          }
        },
        "b76d4674661a4ff886039905d3e50519": {
          "model_module": "@jupyter-widgets/base",
          "model_name": "LayoutModel",
          "model_module_version": "1.2.0",
          "state": {
            "_model_module": "@jupyter-widgets/base",
            "_model_module_version": "1.2.0",
            "_model_name": "LayoutModel",
            "_view_count": null,
            "_view_module": "@jupyter-widgets/base",
            "_view_module_version": "1.2.0",
            "_view_name": "LayoutView",
            "align_content": null,
            "align_items": null,
            "align_self": null,
            "border": null,
            "bottom": null,
            "display": null,
            "flex": null,
            "flex_flow": null,
            "grid_area": null,
            "grid_auto_columns": null,
            "grid_auto_flow": null,
            "grid_auto_rows": null,
            "grid_column": null,
            "grid_gap": null,
            "grid_row": null,
            "grid_template_areas": null,
            "grid_template_columns": null,
            "grid_template_rows": null,
            "height": null,
            "justify_content": null,
            "justify_items": null,
            "left": null,
            "margin": null,
            "max_height": null,
            "max_width": null,
            "min_height": null,
            "min_width": null,
            "object_fit": null,
            "object_position": null,
            "order": null,
            "overflow": null,
            "overflow_x": null,
            "overflow_y": null,
            "padding": null,
            "right": null,
            "top": null,
            "visibility": null,
            "width": null
          }
        },
        "7ca1339116a742ecadd1f1e1bcec5d38": {
          "model_module": "@jupyter-widgets/controls",
          "model_name": "DescriptionStyleModel",
          "model_module_version": "1.5.0",
          "state": {
            "_model_module": "@jupyter-widgets/controls",
            "_model_module_version": "1.5.0",
            "_model_name": "DescriptionStyleModel",
            "_view_count": null,
            "_view_module": "@jupyter-widgets/base",
            "_view_module_version": "1.2.0",
            "_view_name": "StyleView",
            "description_width": "initial"
          }
        },
        "2a730f739d4847b5a811c49cae5a2f5d": {
          "model_module": "@jupyter-widgets/controls",
          "model_name": "FloatTextModel",
          "model_module_version": "1.5.0",
          "state": {
            "_dom_classes": [],
            "_model_module": "@jupyter-widgets/controls",
            "_model_module_version": "1.5.0",
            "_model_name": "FloatTextModel",
            "_view_count": null,
            "_view_module": "@jupyter-widgets/controls",
            "_view_module_version": "1.5.0",
            "_view_name": "FloatTextView",
            "continuous_update": false,
            "description": "Sleep Duration (hrs):",
            "description_tooltip": null,
            "disabled": false,
            "layout": "IPY_MODEL_e07abaf65e5a4acd815a3b4f1e35cad2",
            "step": null,
            "style": "IPY_MODEL_76dc0d01d1664dc98584c3dd71543ea1",
            "value": 8
          }
        },
        "e07abaf65e5a4acd815a3b4f1e35cad2": {
          "model_module": "@jupyter-widgets/base",
          "model_name": "LayoutModel",
          "model_module_version": "1.2.0",
          "state": {
            "_model_module": "@jupyter-widgets/base",
            "_model_module_version": "1.2.0",
            "_model_name": "LayoutModel",
            "_view_count": null,
            "_view_module": "@jupyter-widgets/base",
            "_view_module_version": "1.2.0",
            "_view_name": "LayoutView",
            "align_content": null,
            "align_items": null,
            "align_self": null,
            "border": null,
            "bottom": null,
            "display": null,
            "flex": null,
            "flex_flow": null,
            "grid_area": null,
            "grid_auto_columns": null,
            "grid_auto_flow": null,
            "grid_auto_rows": null,
            "grid_column": null,
            "grid_gap": null,
            "grid_row": null,
            "grid_template_areas": null,
            "grid_template_columns": null,
            "grid_template_rows": null,
            "height": null,
            "justify_content": null,
            "justify_items": null,
            "left": null,
            "margin": null,
            "max_height": null,
            "max_width": null,
            "min_height": null,
            "min_width": null,
            "object_fit": null,
            "object_position": null,
            "order": null,
            "overflow": null,
            "overflow_x": null,
            "overflow_y": null,
            "padding": null,
            "right": null,
            "top": null,
            "visibility": null,
            "width": null
          }
        },
        "76dc0d01d1664dc98584c3dd71543ea1": {
          "model_module": "@jupyter-widgets/controls",
          "model_name": "DescriptionStyleModel",
          "model_module_version": "1.5.0",
          "state": {
            "_model_module": "@jupyter-widgets/controls",
            "_model_module_version": "1.5.0",
            "_model_name": "DescriptionStyleModel",
            "_view_count": null,
            "_view_module": "@jupyter-widgets/base",
            "_view_module_version": "1.2.0",
            "_view_name": "StyleView",
            "description_width": "initial"
          }
        },
        "d26781d3b70e4310a4bfa700a9a5c19c": {
          "model_module": "@jupyter-widgets/controls",
          "model_name": "IntTextModel",
          "model_module_version": "1.5.0",
          "state": {
            "_dom_classes": [],
            "_model_module": "@jupyter-widgets/controls",
            "_model_module_version": "1.5.0",
            "_model_name": "IntTextModel",
            "_view_count": null,
            "_view_module": "@jupyter-widgets/controls",
            "_view_module_version": "1.5.0",
            "_view_name": "IntTextView",
            "continuous_update": false,
            "description": "Awakenings:",
            "description_tooltip": null,
            "disabled": false,
            "layout": "IPY_MODEL_ddbc54bfab93426dbb11d4c9826afc6f",
            "step": 1,
            "style": "IPY_MODEL_f00cd7f70b2f4671a1e4a145b194811f",
            "value": 0
          }
        },
        "ddbc54bfab93426dbb11d4c9826afc6f": {
          "model_module": "@jupyter-widgets/base",
          "model_name": "LayoutModel",
          "model_module_version": "1.2.0",
          "state": {
            "_model_module": "@jupyter-widgets/base",
            "_model_module_version": "1.2.0",
            "_model_name": "LayoutModel",
            "_view_count": null,
            "_view_module": "@jupyter-widgets/base",
            "_view_module_version": "1.2.0",
            "_view_name": "LayoutView",
            "align_content": null,
            "align_items": null,
            "align_self": null,
            "border": null,
            "bottom": null,
            "display": null,
            "flex": null,
            "flex_flow": null,
            "grid_area": null,
            "grid_auto_columns": null,
            "grid_auto_flow": null,
            "grid_auto_rows": null,
            "grid_column": null,
            "grid_gap": null,
            "grid_row": null,
            "grid_template_areas": null,
            "grid_template_columns": null,
            "grid_template_rows": null,
            "height": null,
            "justify_content": null,
            "justify_items": null,
            "left": null,
            "margin": null,
            "max_height": null,
            "max_width": null,
            "min_height": null,
            "min_width": null,
            "object_fit": null,
            "object_position": null,
            "order": null,
            "overflow": null,
            "overflow_x": null,
            "overflow_y": null,
            "padding": null,
            "right": null,
            "top": null,
            "visibility": null,
            "width": null
          }
        },
        "f00cd7f70b2f4671a1e4a145b194811f": {
          "model_module": "@jupyter-widgets/controls",
          "model_name": "DescriptionStyleModel",
          "model_module_version": "1.5.0",
          "state": {
            "_model_module": "@jupyter-widgets/controls",
            "_model_module_version": "1.5.0",
            "_model_name": "DescriptionStyleModel",
            "_view_count": null,
            "_view_module": "@jupyter-widgets/base",
            "_view_module_version": "1.2.0",
            "_view_name": "StyleView",
            "description_width": "initial"
          }
        },
        "9ce430339c354238abbed13efb8f2b92": {
          "model_module": "@jupyter-widgets/controls",
          "model_name": "IntTextModel",
          "model_module_version": "1.5.0",
          "state": {
            "_dom_classes": [],
            "_model_module": "@jupyter-widgets/controls",
            "_model_module_version": "1.5.0",
            "_model_name": "IntTextModel",
            "_view_count": null,
            "_view_module": "@jupyter-widgets/controls",
            "_view_module_version": "1.5.0",
            "_view_name": "IntTextView",
            "continuous_update": false,
            "description": "Alcohol Beverages:",
            "description_tooltip": null,
            "disabled": false,
            "layout": "IPY_MODEL_f15b6282962040a0b5721a9cef7b88f1",
            "step": 1,
            "style": "IPY_MODEL_bd85b1b8b54d44c49d230cc4fd9f3fc4",
            "value": 0
          }
        },
        "f15b6282962040a0b5721a9cef7b88f1": {
          "model_module": "@jupyter-widgets/base",
          "model_name": "LayoutModel",
          "model_module_version": "1.2.0",
          "state": {
            "_model_module": "@jupyter-widgets/base",
            "_model_module_version": "1.2.0",
            "_model_name": "LayoutModel",
            "_view_count": null,
            "_view_module": "@jupyter-widgets/base",
            "_view_module_version": "1.2.0",
            "_view_name": "LayoutView",
            "align_content": null,
            "align_items": null,
            "align_self": null,
            "border": null,
            "bottom": null,
            "display": null,
            "flex": null,
            "flex_flow": null,
            "grid_area": null,
            "grid_auto_columns": null,
            "grid_auto_flow": null,
            "grid_auto_rows": null,
            "grid_column": null,
            "grid_gap": null,
            "grid_row": null,
            "grid_template_areas": null,
            "grid_template_columns": null,
            "grid_template_rows": null,
            "height": null,
            "justify_content": null,
            "justify_items": null,
            "left": null,
            "margin": null,
            "max_height": null,
            "max_width": null,
            "min_height": null,
            "min_width": null,
            "object_fit": null,
            "object_position": null,
            "order": null,
            "overflow": null,
            "overflow_x": null,
            "overflow_y": null,
            "padding": null,
            "right": null,
            "top": null,
            "visibility": null,
            "width": null
          }
        },
        "bd85b1b8b54d44c49d230cc4fd9f3fc4": {
          "model_module": "@jupyter-widgets/controls",
          "model_name": "DescriptionStyleModel",
          "model_module_version": "1.5.0",
          "state": {
            "_model_module": "@jupyter-widgets/controls",
            "_model_module_version": "1.5.0",
            "_model_name": "DescriptionStyleModel",
            "_view_count": null,
            "_view_module": "@jupyter-widgets/base",
            "_view_module_version": "1.2.0",
            "_view_name": "StyleView",
            "description_width": "initial"
          }
        },
        "6761973dedf343db983f12d02a18b9c2": {
          "model_module": "@jupyter-widgets/controls",
          "model_name": "IntSliderModel",
          "model_module_version": "1.5.0",
          "state": {
            "_dom_classes": [],
            "_model_module": "@jupyter-widgets/controls",
            "_model_module_version": "1.5.0",
            "_model_name": "IntSliderModel",
            "_view_count": null,
            "_view_module": "@jupyter-widgets/controls",
            "_view_module_version": "1.5.0",
            "_view_name": "IntSliderView",
            "continuous_update": true,
            "description": "Exercise Days per Week:",
            "description_tooltip": null,
            "disabled": false,
            "layout": "IPY_MODEL_9ab12a990b67467d9b6a243ced9751b8",
            "max": 7,
            "min": 0,
            "orientation": "horizontal",
            "readout": true,
            "readout_format": "d",
            "step": 1,
            "style": "IPY_MODEL_55be62c9210d4a4997d523c778e4e933",
            "value": 5
          }
        },
        "9ab12a990b67467d9b6a243ced9751b8": {
          "model_module": "@jupyter-widgets/base",
          "model_name": "LayoutModel",
          "model_module_version": "1.2.0",
          "state": {
            "_model_module": "@jupyter-widgets/base",
            "_model_module_version": "1.2.0",
            "_model_name": "LayoutModel",
            "_view_count": null,
            "_view_module": "@jupyter-widgets/base",
            "_view_module_version": "1.2.0",
            "_view_name": "LayoutView",
            "align_content": null,
            "align_items": null,
            "align_self": null,
            "border": null,
            "bottom": null,
            "display": null,
            "flex": null,
            "flex_flow": null,
            "grid_area": null,
            "grid_auto_columns": null,
            "grid_auto_flow": null,
            "grid_auto_rows": null,
            "grid_column": null,
            "grid_gap": null,
            "grid_row": null,
            "grid_template_areas": null,
            "grid_template_columns": null,
            "grid_template_rows": null,
            "height": null,
            "justify_content": null,
            "justify_items": null,
            "left": null,
            "margin": null,
            "max_height": null,
            "max_width": null,
            "min_height": null,
            "min_width": null,
            "object_fit": null,
            "object_position": null,
            "order": null,
            "overflow": null,
            "overflow_x": null,
            "overflow_y": null,
            "padding": null,
            "right": null,
            "top": null,
            "visibility": null,
            "width": null
          }
        },
        "55be62c9210d4a4997d523c778e4e933": {
          "model_module": "@jupyter-widgets/controls",
          "model_name": "SliderStyleModel",
          "model_module_version": "1.5.0",
          "state": {
            "_model_module": "@jupyter-widgets/controls",
            "_model_module_version": "1.5.0",
            "_model_name": "SliderStyleModel",
            "_view_count": null,
            "_view_module": "@jupyter-widgets/base",
            "_view_module_version": "1.2.0",
            "_view_name": "StyleView",
            "description_width": "initial",
            "handle_color": null
          }
        },
        "e58c1bf100a04eb78404de7ee5c58dd8": {
          "model_module": "@jupyter-widgets/controls",
          "model_name": "RadioButtonsModel",
          "model_module_version": "1.5.0",
          "state": {
            "_dom_classes": [],
            "_model_module": "@jupyter-widgets/controls",
            "_model_module_version": "1.5.0",
            "_model_name": "RadioButtonsModel",
            "_options_labels": [
              "Male",
              "Female",
              "Other"
            ],
            "_view_count": null,
            "_view_module": "@jupyter-widgets/controls",
            "_view_module_version": "1.5.0",
            "_view_name": "RadioButtonsView",
            "description": "Gender:",
            "description_tooltip": null,
            "disabled": false,
            "index": 0,
            "layout": "IPY_MODEL_9d0c09c4d4d243ea8dcf662b2504990c",
            "style": "IPY_MODEL_dffd8a2642524cf0a0a6f788d491d908"
          }
        },
        "9d0c09c4d4d243ea8dcf662b2504990c": {
          "model_module": "@jupyter-widgets/base",
          "model_name": "LayoutModel",
          "model_module_version": "1.2.0",
          "state": {
            "_model_module": "@jupyter-widgets/base",
            "_model_module_version": "1.2.0",
            "_model_name": "LayoutModel",
            "_view_count": null,
            "_view_module": "@jupyter-widgets/base",
            "_view_module_version": "1.2.0",
            "_view_name": "LayoutView",
            "align_content": null,
            "align_items": null,
            "align_self": null,
            "border": null,
            "bottom": null,
            "display": null,
            "flex": null,
            "flex_flow": null,
            "grid_area": null,
            "grid_auto_columns": null,
            "grid_auto_flow": null,
            "grid_auto_rows": null,
            "grid_column": null,
            "grid_gap": null,
            "grid_row": null,
            "grid_template_areas": null,
            "grid_template_columns": null,
            "grid_template_rows": null,
            "height": null,
            "justify_content": null,
            "justify_items": null,
            "left": null,
            "margin": null,
            "max_height": null,
            "max_width": null,
            "min_height": null,
            "min_width": null,
            "object_fit": null,
            "object_position": null,
            "order": null,
            "overflow": null,
            "overflow_x": null,
            "overflow_y": null,
            "padding": null,
            "right": null,
            "top": null,
            "visibility": null,
            "width": null
          }
        },
        "dffd8a2642524cf0a0a6f788d491d908": {
          "model_module": "@jupyter-widgets/controls",
          "model_name": "DescriptionStyleModel",
          "model_module_version": "1.5.0",
          "state": {
            "_model_module": "@jupyter-widgets/controls",
            "_model_module_version": "1.5.0",
            "_model_name": "DescriptionStyleModel",
            "_view_count": null,
            "_view_module": "@jupyter-widgets/base",
            "_view_module_version": "1.2.0",
            "_view_name": "StyleView",
            "description_width": "initial"
          }
        },
        "719abfba59304e3893b5b789e58a1cb5": {
          "model_module": "@jupyter-widgets/controls",
          "model_name": "RadioButtonsModel",
          "model_module_version": "1.5.0",
          "state": {
            "_dom_classes": [],
            "_model_module": "@jupyter-widgets/controls",
            "_model_module_version": "1.5.0",
            "_model_name": "RadioButtonsModel",
            "_options_labels": [
              "Yes",
              "No"
            ],
            "_view_count": null,
            "_view_module": "@jupyter-widgets/controls",
            "_view_module_version": "1.5.0",
            "_view_name": "RadioButtonsView",
            "description": "Smoker:",
            "description_tooltip": null,
            "disabled": false,
            "index": 1,
            "layout": "IPY_MODEL_6782ddde0f014901b9aa592b847ea0c4",
            "style": "IPY_MODEL_d41838f9cb7a452a9eaf4fdcd3f5436a"
          }
        },
        "6782ddde0f014901b9aa592b847ea0c4": {
          "model_module": "@jupyter-widgets/base",
          "model_name": "LayoutModel",
          "model_module_version": "1.2.0",
          "state": {
            "_model_module": "@jupyter-widgets/base",
            "_model_module_version": "1.2.0",
            "_model_name": "LayoutModel",
            "_view_count": null,
            "_view_module": "@jupyter-widgets/base",
            "_view_module_version": "1.2.0",
            "_view_name": "LayoutView",
            "align_content": null,
            "align_items": null,
            "align_self": null,
            "border": null,
            "bottom": null,
            "display": null,
            "flex": null,
            "flex_flow": null,
            "grid_area": null,
            "grid_auto_columns": null,
            "grid_auto_flow": null,
            "grid_auto_rows": null,
            "grid_column": null,
            "grid_gap": null,
            "grid_row": null,
            "grid_template_areas": null,
            "grid_template_columns": null,
            "grid_template_rows": null,
            "height": null,
            "justify_content": null,
            "justify_items": null,
            "left": null,
            "margin": null,
            "max_height": null,
            "max_width": null,
            "min_height": null,
            "min_width": null,
            "object_fit": null,
            "object_position": null,
            "order": null,
            "overflow": null,
            "overflow_x": null,
            "overflow_y": null,
            "padding": null,
            "right": null,
            "top": null,
            "visibility": null,
            "width": null
          }
        },
        "d41838f9cb7a452a9eaf4fdcd3f5436a": {
          "model_module": "@jupyter-widgets/controls",
          "model_name": "DescriptionStyleModel",
          "model_module_version": "1.5.0",
          "state": {
            "_model_module": "@jupyter-widgets/controls",
            "_model_module_version": "1.5.0",
            "_model_name": "DescriptionStyleModel",
            "_view_count": null,
            "_view_module": "@jupyter-widgets/base",
            "_view_module_version": "1.2.0",
            "_view_name": "StyleView",
            "description_width": "initial"
          }
        },
        "ab15ea4fd3a54db5ba9063ba025fc808": {
          "model_module": "@jupyter-widgets/controls",
          "model_name": "ButtonModel",
          "model_module_version": "1.5.0",
          "state": {
            "_dom_classes": [],
            "_model_module": "@jupyter-widgets/controls",
            "_model_module_version": "1.5.0",
            "_model_name": "ButtonModel",
            "_view_count": null,
            "_view_module": "@jupyter-widgets/controls",
            "_view_module_version": "1.5.0",
            "_view_name": "ButtonView",
            "button_style": "",
            "description": "Submit & Predict",
            "disabled": false,
            "icon": "",
            "layout": "IPY_MODEL_e25c49b878474182a9463a1a80eeff5c",
            "style": "IPY_MODEL_f413735f7d1547f2aec818ed0fe2fa31",
            "tooltip": ""
          }
        },
        "e25c49b878474182a9463a1a80eeff5c": {
          "model_module": "@jupyter-widgets/base",
          "model_name": "LayoutModel",
          "model_module_version": "1.2.0",
          "state": {
            "_model_module": "@jupyter-widgets/base",
            "_model_module_version": "1.2.0",
            "_model_name": "LayoutModel",
            "_view_count": null,
            "_view_module": "@jupyter-widgets/base",
            "_view_module_version": "1.2.0",
            "_view_name": "LayoutView",
            "align_content": null,
            "align_items": null,
            "align_self": null,
            "border": null,
            "bottom": null,
            "display": null,
            "flex": null,
            "flex_flow": null,
            "grid_area": null,
            "grid_auto_columns": null,
            "grid_auto_flow": null,
            "grid_auto_rows": null,
            "grid_column": null,
            "grid_gap": null,
            "grid_row": null,
            "grid_template_areas": null,
            "grid_template_columns": null,
            "grid_template_rows": null,
            "height": null,
            "justify_content": null,
            "justify_items": null,
            "left": null,
            "margin": null,
            "max_height": null,
            "max_width": null,
            "min_height": null,
            "min_width": null,
            "object_fit": null,
            "object_position": null,
            "order": null,
            "overflow": null,
            "overflow_x": null,
            "overflow_y": null,
            "padding": null,
            "right": null,
            "top": null,
            "visibility": null,
            "width": null
          }
        },
        "f413735f7d1547f2aec818ed0fe2fa31": {
          "model_module": "@jupyter-widgets/controls",
          "model_name": "ButtonStyleModel",
          "model_module_version": "1.5.0",
          "state": {
            "_model_module": "@jupyter-widgets/controls",
            "_model_module_version": "1.5.0",
            "_model_name": "ButtonStyleModel",
            "_view_count": null,
            "_view_module": "@jupyter-widgets/base",
            "_view_module_version": "1.2.0",
            "_view_name": "StyleView",
            "button_color": null,
            "font_weight": ""
          }
        },
        "fe48fd57224d4edbb495cc473f6da9b0": {
          "model_module": "@jupyter-widgets/output",
          "model_name": "OutputModel",
          "model_module_version": "1.0.0",
          "state": {
            "_dom_classes": [],
            "_model_module": "@jupyter-widgets/output",
            "_model_module_version": "1.0.0",
            "_model_name": "OutputModel",
            "_view_count": null,
            "_view_module": "@jupyter-widgets/output",
            "_view_module_version": "1.0.0",
            "_view_name": "OutputView",
            "layout": "IPY_MODEL_89a7fc337f174dcc9406bb36e6275bbb",
            "msg_id": "",
            "outputs": []
          }
        },
        "89a7fc337f174dcc9406bb36e6275bbb": {
          "model_module": "@jupyter-widgets/base",
          "model_name": "LayoutModel",
          "model_module_version": "1.2.0",
          "state": {
            "_model_module": "@jupyter-widgets/base",
            "_model_module_version": "1.2.0",
            "_model_name": "LayoutModel",
            "_view_count": null,
            "_view_module": "@jupyter-widgets/base",
            "_view_module_version": "1.2.0",
            "_view_name": "LayoutView",
            "align_content": null,
            "align_items": null,
            "align_self": null,
            "border": null,
            "bottom": null,
            "display": null,
            "flex": null,
            "flex_flow": null,
            "grid_area": null,
            "grid_auto_columns": null,
            "grid_auto_flow": null,
            "grid_auto_rows": null,
            "grid_column": null,
            "grid_gap": null,
            "grid_row": null,
            "grid_template_areas": null,
            "grid_template_columns": null,
            "grid_template_rows": null,
            "height": null,
            "justify_content": null,
            "justify_items": null,
            "left": null,
            "margin": null,
            "max_height": null,
            "max_width": null,
            "min_height": null,
            "min_width": null,
            "object_fit": null,
            "object_position": null,
            "order": null,
            "overflow": null,
            "overflow_x": null,
            "overflow_y": null,
            "padding": null,
            "right": null,
            "top": null,
            "visibility": null,
            "width": null
          }
        },
        "d97f911eee5f4cddbd4405a030620b8d": {
          "model_module": "@jupyter-widgets/controls",
          "model_name": "ButtonModel",
          "model_module_version": "1.5.0",
          "state": {
            "_dom_classes": [],
            "_model_module": "@jupyter-widgets/controls",
            "_model_module_version": "1.5.0",
            "_model_name": "ButtonModel",
            "_view_count": null,
            "_view_module": "@jupyter-widgets/controls",
            "_view_module_version": "1.5.0",
            "_view_name": "ButtonView",
            "button_style": "",
            "description": "Clear Output Display",
            "disabled": false,
            "icon": "",
            "layout": "IPY_MODEL_7a664a73d6b44435bc65a019e92b9a6c",
            "style": "IPY_MODEL_5be563eb69b241c28e03a0173eed9f1f",
            "tooltip": ""
          }
        },
        "7a664a73d6b44435bc65a019e92b9a6c": {
          "model_module": "@jupyter-widgets/base",
          "model_name": "LayoutModel",
          "model_module_version": "1.2.0",
          "state": {
            "_model_module": "@jupyter-widgets/base",
            "_model_module_version": "1.2.0",
            "_model_name": "LayoutModel",
            "_view_count": null,
            "_view_module": "@jupyter-widgets/base",
            "_view_module_version": "1.2.0",
            "_view_name": "LayoutView",
            "align_content": null,
            "align_items": null,
            "align_self": null,
            "border": null,
            "bottom": null,
            "display": null,
            "flex": null,
            "flex_flow": null,
            "grid_area": null,
            "grid_auto_columns": null,
            "grid_auto_flow": null,
            "grid_auto_rows": null,
            "grid_column": null,
            "grid_gap": null,
            "grid_row": null,
            "grid_template_areas": null,
            "grid_template_columns": null,
            "grid_template_rows": null,
            "height": null,
            "justify_content": null,
            "justify_items": null,
            "left": null,
            "margin": null,
            "max_height": null,
            "max_width": null,
            "min_height": null,
            "min_width": null,
            "object_fit": null,
            "object_position": null,
            "order": null,
            "overflow": null,
            "overflow_x": null,
            "overflow_y": null,
            "padding": null,
            "right": null,
            "top": null,
            "visibility": null,
            "width": null
          }
        },
        "5be563eb69b241c28e03a0173eed9f1f": {
          "model_module": "@jupyter-widgets/controls",
          "model_name": "ButtonStyleModel",
          "model_module_version": "1.5.0",
          "state": {
            "_model_module": "@jupyter-widgets/controls",
            "_model_module_version": "1.5.0",
            "_model_name": "ButtonStyleModel",
            "_view_count": null,
            "_view_module": "@jupyter-widgets/base",
            "_view_module_version": "1.2.0",
            "_view_name": "StyleView",
            "button_color": null,
            "font_weight": ""
          }
        }
      }
    }
  },
  "cells": [
    {
      "cell_type": "markdown",
      "metadata": {
        "id": "view-in-github",
        "colab_type": "text"
      },
      "source": [
        "<a href=\"https://colab.research.google.com/github/mike4278/Sleep_Efficiency/blob/main/Sleep_Efficiency.ipynb\" target=\"_parent\"><img src=\"https://colab.research.google.com/assets/colab-badge.svg\" alt=\"Open In Colab\"/></a>"
      ]
    },
    {
      "cell_type": "markdown",
      "source": [
        "# Sleep Efficiency Analyzation and Prediction Tool"
      ],
      "metadata": {
        "id": "sLMHiUc5JUrb"
      }
    },
    {
      "cell_type": "markdown",
      "source": [
        "# Initialization\n",
        "- This cell will import all libraries and dependencies.\n",
        "- The dataset is loaded and the data cleaned by removing unwanted columns and categorizing columns from text to numerical values.\n",
        "- Training and testing variables are created and applied to the dataset.\n",
        "- A Random Forest Regression model is initiated and generates predictions using the training data.\n",
        "- An r2 and mean absolute efficiency score is generated and presented to display accuracy."
      ],
      "metadata": {
        "id": "S8YOVnelkE4V"
      }
    },
    {
      "cell_type": "code",
      "source": [
        "# Import libraries and dependencies\n",
        "\n",
        "import pandas as pd\n",
        "from sklearn.model_selection import train_test_split\n",
        "from sklearn.preprocessing import LabelEncoder\n",
        "from sklearn.ensemble import RandomForestRegressor\n",
        "from sklearn.metrics import mean_absolute_error, r2_score\n",
        "import numpy as np\n",
        "import seaborn as sns\n",
        "import matplotlib.pyplot as plt\n",
        "import ipywidgets as widgets\n",
        "from IPython.display import display, clear_output"
      ],
      "metadata": {
        "id": "xHVjg7G-qUnG"
      },
      "execution_count": 1,
      "outputs": []
    },
    {
      "cell_type": "code",
      "source": [
        "# Loading the dataset\n",
        "# By default, the hosted dataset will be downloaded and used.\n",
        "# An alternate_file_path can be used if local csv is preferred as a substitute.\n",
        "\n",
        "HOSTED = \"https://raw.githubusercontent.com/mike4278/Sleep_Efficiency/main/Sleep_Efficiency.csv\"\n",
        "LOCAL = \"Sleep_Efficiency.csv\"\n",
        "\n",
        "# To switch between hosted and local copy, adjust commented path commented below\n",
        "sleep_data = pd.read_csv(HOSTED)\n",
        "# sleep_data = pd.read_csv(LOCAL)\n",
        "\n",
        "# Clean dataset by dropping unneeded columns\n",
        "sleep_data = sleep_data.drop(['ID', 'Bedtime', 'Wakeup time'], axis=1)\n",
        "\n",
        "# Categorize text columns with Label Encoder\n",
        "label_encoder = LabelEncoder()\n",
        "sleep_data[\"Gender\"] = label_encoder.fit_transform(sleep_data[\"Gender\"])\n",
        "sleep_data[\"Smoking status\"] = label_encoder.fit_transform(\n",
        "    sleep_data[\"Smoking status\"])\n",
        "\n",
        "# Define inputs (X) and outputs (y)\n",
        "X = sleep_data[[\"Age\", \"Gender\", \"Sleep duration\", \"Awakenings\",\n",
        "                \"Alcohol consumption\", \"Smoking status\", \"Exercise frequency\"]]\n",
        "y = sleep_data[[\"Sleep efficiency\"]]\n",
        "\n",
        "# Split data\n",
        "X_train, X_test, y_train, y_test = train_test_split(X, y, test_size = 0.2,\n",
        "                                                    random_state=42)\n",
        "\n",
        "# Initialize model with RandomForestRegressor\n",
        "model = RandomForestRegressor()\n",
        "model.fit(X_train, y_train)\n",
        "\n",
        "# Make predictions\n",
        "y_pred = model.predict(X_test)\n"
      ],
      "metadata": {
        "id": "Qu3xQnVlJWxf",
        "outputId": "8c63f997-95b4-4159-dcdf-6a8771501f87",
        "colab": {
          "base_uri": "https://localhost:8080/"
        }
      },
      "execution_count": 2,
      "outputs": [
        {
          "output_type": "stream",
          "name": "stderr",
          "text": [
            "/usr/local/lib/python3.11/dist-packages/sklearn/base.py:1389: DataConversionWarning: A column-vector y was passed when a 1d array was expected. Please change the shape of y to (n_samples,), for example using ravel().\n",
            "  return fit_method(estimator, *args, **kwargs)\n"
          ]
        }
      ]
    },
    {
      "cell_type": "code",
      "source": [],
      "metadata": {
        "id": "IhIHoJ1lK2JA"
      },
      "execution_count": null,
      "outputs": []
    },
    {
      "cell_type": "code",
      "source": [
        "# Evaluate Sleep Efficiency\n",
        "r2_eff = r2_score(y_test, y_pred)\n",
        "mae_eff = mean_absolute_error(y_test, y_pred)\n",
        "\n",
        "print(f\"Sleep Efficiency - R2: {r2_eff:.2f}, MAE: {mae_eff:.2f}\")"
      ],
      "metadata": {
        "id": "3htJEcMGLNDt",
        "outputId": "d1c40a38-b353-4f91-d2ec-ed7124f430e6",
        "colab": {
          "base_uri": "https://localhost:8080/"
        }
      },
      "execution_count": 3,
      "outputs": [
        {
          "output_type": "stream",
          "name": "stdout",
          "text": [
            "Sleep Efficiency - R2: 0.70, MAE: 0.06\n"
          ]
        }
      ]
    },
    {
      "cell_type": "markdown",
      "source": [
        "# Model Visualizations\n",
        "- Model visualizations are generated using seaborn, matplotlib, and numpy.\n",
        "- A scatter plot is displayed to showcase prediction accuracy, comparing the actual data to the predictions.\n",
        "- A histogram is generated to display the frequency of various sleep efficiency results.\n",
        "- A bar plot is presented to indicate which factors most influence the sleep efficiency score.\n",
        "- Several boxplots are used to show the relationship between the identified important features and sleep efficiency, including awakenings, alcohol consumption, smoking status, and exercise frequency."
      ],
      "metadata": {
        "id": "RiarG75JkPG-"
      }
    },
    {
      "cell_type": "code",
      "source": [
        "# Scatter plot of actual vs. predicted\n",
        "plt.figure(figsize=(8,6))\n",
        "plt.scatter(y_test, y_pred, alpha=0.5)\n",
        "# Add 45 degree reference line\n",
        "plt.plot([y_test.min(), y_test.max()], [y_test.min(), y_test.max()], 'r', lw=2)\n",
        "plt.xlabel(\"Actual sleep Efficiency\")\n",
        "plt.ylabel(\"Predicted Sleep Efficiency\")\n",
        "plt.title(\"Actual vs Predicted Sleep Efficiency\")\n",
        "plt.show()"
      ],
      "metadata": {
        "id": "a30ZwaDwTnsI",
        "outputId": "65d9c53e-09fa-4eb1-d6ee-3869856f142d",
        "colab": {
          "base_uri": "https://localhost:8080/",
          "height": 564
        }
      },
      "execution_count": 4,
      "outputs": [
        {
          "output_type": "display_data",
          "data": {
            "text/plain": [
              "<Figure size 800x600 with 1 Axes>"
            ],
            "image/png": "[encoded data removed]"
          },
          "metadata": {}
        }
      ]
    },
    {
      "cell_type": "code",
      "source": [
        "# Histogram of Sleep Efficiency Distribution\n",
        "plt.figure(figsize=(8, 5))\n",
        "sns.histplot(sleep_data[\"Sleep efficiency\"], kde=True, bins=30, color=\"blue\")\n",
        "plt.xlabel(\"Sleep Efficiency (%)\")\n",
        "plt.ylabel(\"Frequency\")\n",
        "plt.title(\"Distribution of Sleep Efficiency\")\n",
        "plt.show()\n"
      ],
      "metadata": {
        "id": "RHCVWTYXas0k",
        "outputId": "20644820-a6e2-48f5-96b0-c52681818cd1",
        "colab": {
          "base_uri": "https://localhost:8080/",
          "height": 487
        }
      },
      "execution_count": 5,
      "outputs": [
        {
          "output_type": "display_data",
          "data": {
            "text/plain": [
              "<Figure size 800x500 with 1 Axes>"
            ],
            "image/png": "[encoded data removed]"
          },
          "metadata": {}
        }
      ]
    },
    {
      "cell_type": "code",
      "source": [
        "# Create bar plot of Important Features\n",
        "importances = model.feature_importances_\n",
        "feature_names = X.columns\n",
        "\n",
        "plt.figure(figsize=(10,5))\n",
        "sns.barplot(x=importances, y=feature_names, palette=\"viridis\")\n",
        "plt.xlabel(\"Feature Importance Score\")\n",
        "plt.ylabel(\"Feature\")\n",
        "plt.title(\"Feature Importance for Sleep Efficiency\")\n",
        "plt.show()"
      ],
      "metadata": {
        "id": "qd-so6JBUbim",
        "outputId": "0a639e31-ca7a-4aaa-da3b-a0d3b38f29f0",
        "colab": {
          "base_uri": "https://localhost:8080/",
          "height": 574
        }
      },
      "execution_count": 7,
      "outputs": [
        {
          "output_type": "stream",
          "name": "stderr",
          "text": [
            "<ipython-input-7-02f53da9e214>:6: FutureWarning: \n",
            "\n",
            "Passing `palette` without assigning `hue` is deprecated and will be removed in v0.14.0. Assign the `y` variable to `hue` and set `legend=False` for the same effect.\n",
            "\n",
            "  sns.barplot(x=importances, y=feature_names, palette=\"viridis\")\n"
          ]
        },
        {
          "output_type": "display_data",
          "data": {
            "text/plain": [
              "<Figure size 1000x500 with 1 Axes>"
            ],
            "image/png": "[encoded data removed]"
          },
          "metadata": {}
        }
      ]
    },
    {
      "cell_type": "code",
      "source": [
        "# Sleep Efficiency vs. Awakenings Boxplot\n",
        "plt.figure(figsize=(8, 5))\n",
        "sns.boxplot(x=sleep_data[\"Awakenings\"], y=sleep_data[\"Sleep efficiency\"], palette=\"coolwarm\")\n",
        "plt.xlabel(\"Awakenings\")\n",
        "plt.ylabel(\"Sleep Efficiency (%)\")\n",
        "plt.title(\"Sleep Efficiency vs. Awakenings\")\n",
        "plt.show()"
      ],
      "metadata": {
        "id": "U6pP8DGca4gq",
        "outputId": "b9bb89b8-e804-4a73-9bcc-a1c23c10f1f8",
        "colab": {
          "base_uri": "https://localhost:8080/",
          "height": 574
        }
      },
      "execution_count": 8,
      "outputs": [
        {
          "output_type": "stream",
          "name": "stderr",
          "text": [
            "<ipython-input-8-37169980aa03>:3: FutureWarning: \n",
            "\n",
            "Passing `palette` without assigning `hue` is deprecated and will be removed in v0.14.0. Assign the `x` variable to `hue` and set `legend=False` for the same effect.\n",
            "\n",
            "  sns.boxplot(x=sleep_data[\"Awakenings\"], y=sleep_data[\"Sleep efficiency\"], palette=\"coolwarm\")\n"
          ]
        },
        {
          "output_type": "display_data",
          "data": {
            "text/plain": [
              "<Figure size 800x500 with 1 Axes>"
            ],
            "image/png": "[encoded data removed]"
          },
          "metadata": {}
        }
      ]
    },
    {
      "cell_type": "code",
      "source": [
        "# Sleep Efficiency vs. Alcohol consumption Boxplot\n",
        "plt.figure(figsize=(8, 5))\n",
        "sns.boxplot(x=sleep_data[\"Alcohol consumption\"], y=sleep_data[\"Sleep efficiency\"], palette=\"coolwarm\")\n",
        "plt.xlabel(\"Alcohol consumption\")\n",
        "plt.ylabel(\"Sleep Efficiency (%)\")\n",
        "plt.title(\"Sleep Efficiency vs. Alcohol consumption\")\n",
        "plt.show()"
      ],
      "metadata": {
        "id": "-xR2aGE7GMz4",
        "outputId": "5719ddf1-0332-4406-becb-de13b63b73ff",
        "colab": {
          "base_uri": "https://localhost:8080/",
          "height": 574
        }
      },
      "execution_count": 9,
      "outputs": [
        {
          "output_type": "stream",
          "name": "stderr",
          "text": [
            "<ipython-input-9-92ee5a9bcad8>:3: FutureWarning: \n",
            "\n",
            "Passing `palette` without assigning `hue` is deprecated and will be removed in v0.14.0. Assign the `x` variable to `hue` and set `legend=False` for the same effect.\n",
            "\n",
            "  sns.boxplot(x=sleep_data[\"Alcohol consumption\"], y=sleep_data[\"Sleep efficiency\"], palette=\"coolwarm\")\n"
          ]
        },
        {
          "output_type": "display_data",
          "data": {
            "text/plain": [
              "<Figure size 800x500 with 1 Axes>"
            ],
            "image/png": "[encoded data removed]"
          },
          "metadata": {}
        }
      ]
    },
    {
      "cell_type": "code",
      "source": [
        "# Sleep Efficiency vs. Smoking status Boxplot\n",
        "plt.figure(figsize=(8, 5))\n",
        "sns.boxplot(x=sleep_data[\"Smoking status\"], y=sleep_data[\"Sleep efficiency\"], palette=\"coolwarm\")\n",
        "plt.xlabel(\"Smoking status\")\n",
        "plt.ylabel(\"Sleep Efficiency (%)\")\n",
        "plt.title(\"Sleep Efficiency vs. Smoking status\")\n",
        "plt.show()"
      ],
      "metadata": {
        "id": "_kS8y9QoGKo4",
        "outputId": "aadd9660-5a4a-429d-a68c-2cfdab6c06c1",
        "colab": {
          "base_uri": "https://localhost:8080/",
          "height": 574
        }
      },
      "execution_count": 10,
      "outputs": [
        {
          "output_type": "stream",
          "name": "stderr",
          "text": [
            "<ipython-input-10-a2424d5777a0>:3: FutureWarning: \n",
            "\n",
            "Passing `palette` without assigning `hue` is deprecated and will be removed in v0.14.0. Assign the `x` variable to `hue` and set `legend=False` for the same effect.\n",
            "\n",
            "  sns.boxplot(x=sleep_data[\"Smoking status\"], y=sleep_data[\"Sleep efficiency\"], palette=\"coolwarm\")\n"
          ]
        },
        {
          "output_type": "display_data",
          "data": {
            "text/plain": [
              "<Figure size 800x500 with 1 Axes>"
            ],
            "image/png": "[encoded data removed]"
          },
          "metadata": {}
        }
      ]
    },
    {
      "cell_type": "code",
      "source": [
        "# Sleep Efficiency vs. Exercise Frequency\" Boxplot\n",
        "plt.figure(figsize=(8, 5))\n",
        "sns.boxplot(x=sleep_data[\"Exercise frequency\"], y=sleep_data[\"Sleep efficiency\"], palette=\"coolwarm\")\n",
        "plt.xlabel(\"Exercise Frequency (Days per Week)\")\n",
        "plt.ylabel(\"Sleep Efficiency (%)\")\n",
        "plt.title(\"Sleep Efficiency vs. Exercise Frequency\")\n",
        "plt.show()"
      ],
      "metadata": {
        "id": "cs4mwJCRF44G",
        "outputId": "bc123bea-6194-4aa2-84a6-23f6f2f8ea17",
        "colab": {
          "base_uri": "https://localhost:8080/",
          "height": 574
        }
      },
      "execution_count": 11,
      "outputs": [
        {
          "output_type": "stream",
          "name": "stderr",
          "text": [
            "<ipython-input-11-194df0dd8b48>:3: FutureWarning: \n",
            "\n",
            "Passing `palette` without assigning `hue` is deprecated and will be removed in v0.14.0. Assign the `x` variable to `hue` and set `legend=False` for the same effect.\n",
            "\n",
            "  sns.boxplot(x=sleep_data[\"Exercise frequency\"], y=sleep_data[\"Sleep efficiency\"], palette=\"coolwarm\")\n"
          ]
        },
        {
          "output_type": "display_data",
          "data": {
            "text/plain": [
              "<Figure size 800x500 with 1 Axes>"
            ],
            "image/png": "[encoded data removed]"
          },
          "metadata": {}
        }
      ]
    },
    {
      "cell_type": "markdown",
      "source": [
        "# Interactive Input\n",
        "- Using the dataset and model that has been created, users can enter customized entries to predict sleep efficiency results.\n",
        "- Users are encouraged to experiment with input settings to determine which lifestyle changes will have the biggest impact on their desired sleep efficiency results.\n",
        "- Once a desirable sleep efficiency result has been generated with obtainable lifestyle habit goals, a Sleep Improvement Plan can initiated."
      ],
      "metadata": {
        "id": "SSsTpzyoFBof"
      }
    },
    {
      "cell_type": "code",
      "source": [
        "# Create input widgets for user form\n",
        "age_input = widgets.IntText(value=30, description='Age:', min=0, max=120, style={'description_width': 'initial'})\n",
        "sleep_duration_input = widgets.FloatText(value=7.0, description='Sleep Duration (hrs):', min=0, max=24, style={'description_width': 'initial'})\n",
        "awakenings_input = widgets.IntText(value=1, description='Awakenings:', min=0, max=10, style={'description_width': 'initial'})\n",
        "alcoholic_beverages_input = widgets.IntText(value=0, description='Alcohol Beverages:', min=0, max=10, style={'description_width': 'initial'})\n",
        "exercise_days_input = widgets.IntSlider(value=3, min=0, max=7, step=1, description='Exercise Days per Week:', style={'description_width': 'initial'})\n",
        "gender_input = widgets.RadioButtons(\n",
        "    options=['Male', 'Female', 'Other'],\n",
        "    description='Gender:',\n",
        "    disabled=False,\n",
        "    style={'description_width': 'initial'}\n",
        ")\n",
        "smoker_input = widgets.RadioButtons(\n",
        "    options=['Yes', 'No'],\n",
        "    description='Smoker:',\n",
        "    disabled=False,\n",
        "    style={'description_width': 'initial'}\n",
        ")\n",
        "\n",
        "# Display input widgets\n",
        "display(age_input, sleep_duration_input, awakenings_input, alcoholic_beverages_input, exercise_days_input, gender_input, smoker_input)\n",
        "\n",
        "# Output widget to display results\n",
        "output = widgets.Output()\n",
        "\n",
        "# Button to submit inputs and predict sleep efficiency value\n",
        "submit_button = widgets.Button(description=\"Submit & Predict\")\n",
        "\n",
        "# Button to reset the output display\n",
        "reset_button = widgets.Button(description=\"Clear Output Display\")\n",
        "\n",
        "# Function to process user input and make a prediction\n",
        "def on_submit_button_clicked(b):\n",
        "    with output:\n",
        "        # Capture user inputs\n",
        "        user_data = {\n",
        "            'Age': age_input.value,\n",
        "            'Gender': 1 if gender_input.value == 'Male' else 0,  # Encode gender (1=Male, 0=Female/Other)\n",
        "            'Sleep duration': sleep_duration_input.value,\n",
        "            'Awakenings': awakenings_input.value,\n",
        "            'Alcohol consumption': alcoholic_beverages_input.value,\n",
        "            'Smoking status': 1 if smoker_input.value == 'Yes' else 0,  # Encode smoker (1=Yes, 0=No)\n",
        "            'Exercise frequency': exercise_days_input.value\n",
        "        }\n",
        "\n",
        "        # Convert user input into DataFrame\n",
        "        user_df = pd.DataFrame([user_data])\n",
        "\n",
        "        # Make a prediction & extract predicted value\n",
        "        predicted_efficiency = model.predict(user_df)[0]\n",
        "\n",
        "        # Display user inputs and prediction in the output area\n",
        "        print(\"\\nUser Input:\")\n",
        "        for key, value in user_data.items():\n",
        "            print(f\"{key}: {value}\")\n",
        "\n",
        "        print(f\"\\nPredicted Sleep Efficiency: {predicted_efficiency:.2f}%\")\n",
        "\n",
        "# Reset function\n",
        "def reset_output(b):\n",
        "    with output:\n",
        "        clear_output()\n",
        "\n",
        "# Add button click event\n",
        "submit_button.on_click(on_submit_button_clicked)\n",
        "reset_button.on_click(reset_output)\n",
        "\n",
        "# Display the submit button and output area\n",
        "display(submit_button, output)\n",
        "display(reset_button)\n"
      ],
      "metadata": {
        "id": "nhghPvdgN-Jp",
        "outputId": "32b52c44-f0af-4f84-ef82-b727e57e536e",
        "colab": {
          "base_uri": "https://localhost:8080/",
          "height": 371,
          "referenced_widgets": [
            "1bdbe42f8f00417195dbf059ec47a9d0",
            "b76d4674661a4ff886039905d3e50519",
            "7ca1339116a742ecadd1f1e1bcec5d38",
            "2a730f739d4847b5a811c49cae5a2f5d",
            "e07abaf65e5a4acd815a3b4f1e35cad2",
            "76dc0d01d1664dc98584c3dd71543ea1",
            "d26781d3b70e4310a4bfa700a9a5c19c",
            "ddbc54bfab93426dbb11d4c9826afc6f",
            "f00cd7f70b2f4671a1e4a145b194811f",
            "9ce430339c354238abbed13efb8f2b92",
            "f15b6282962040a0b5721a9cef7b88f1",
            "bd85b1b8b54d44c49d230cc4fd9f3fc4",
            "6761973dedf343db983f12d02a18b9c2",
            "9ab12a990b67467d9b6a243ced9751b8",
            "55be62c9210d4a4997d523c778e4e933",
            "e58c1bf100a04eb78404de7ee5c58dd8",
            "9d0c09c4d4d243ea8dcf662b2504990c",
            "dffd8a2642524cf0a0a6f788d491d908",
            "719abfba59304e3893b5b789e58a1cb5",
            "6782ddde0f014901b9aa592b847ea0c4",
            "d41838f9cb7a452a9eaf4fdcd3f5436a",
            "ab15ea4fd3a54db5ba9063ba025fc808",
            "e25c49b878474182a9463a1a80eeff5c",
            "f413735f7d1547f2aec818ed0fe2fa31",
            "fe48fd57224d4edbb495cc473f6da9b0",
            "89a7fc337f174dcc9406bb36e6275bbb",
            "d97f911eee5f4cddbd4405a030620b8d",
            "7a664a73d6b44435bc65a019e92b9a6c",
            "5be563eb69b241c28e03a0173eed9f1f"
          ]
        }
      },
      "execution_count": 12,
      "outputs": [
        {
          "output_type": "display_data",
          "data": {
            "text/plain": [
              "IntText(value=30, description='Age:', style=DescriptionStyle(description_width='initial'))"
            ],
            "application/vnd.jupyter.widget-view+json": {
              "version_major": 2,
              "version_minor": 0,
              "model_id": "1bdbe42f8f00417195dbf059ec47a9d0"
            }
          },
          "metadata": {}
        },
        {
          "output_type": "display_data",
          "data": {
            "text/plain": [
              "FloatText(value=7.0, description='Sleep Duration (hrs):', style=DescriptionStyle(description_width='initial'))"
            ],
            "application/vnd.jupyter.widget-view+json": {
              "version_major": 2,
              "version_minor": 0,
              "model_id": "2a730f739d4847b5a811c49cae5a2f5d"
            }
          },
          "metadata": {}
        },
        {
          "output_type": "display_data",
          "data": {
            "text/plain": [
              "IntText(value=1, description='Awakenings:', style=DescriptionStyle(description_width='initial'))"
            ],
            "application/vnd.jupyter.widget-view+json": {
              "version_major": 2,
              "version_minor": 0,
              "model_id": "d26781d3b70e4310a4bfa700a9a5c19c"
            }
          },
          "metadata": {}
        },
        {
          "output_type": "display_data",
          "data": {
            "text/plain": [
              "IntText(value=0, description='Alcohol Beverages:', style=DescriptionStyle(description_width='initial'))"
            ],
            "application/vnd.jupyter.widget-view+json": {
              "version_major": 2,
              "version_minor": 0,
              "model_id": "9ce430339c354238abbed13efb8f2b92"
            }
          },
          "metadata": {}
        },
        {
          "output_type": "display_data",
          "data": {
            "text/plain": [
              "IntSlider(value=3, description='Exercise Days per Week:', max=7, style=SliderStyle(description_width='initial'…"
            ],
            "application/vnd.jupyter.widget-view+json": {
              "version_major": 2,
              "version_minor": 0,
              "model_id": "6761973dedf343db983f12d02a18b9c2"
            }
          },
          "metadata": {}
        },
        {
          "output_type": "display_data",
          "data": {
            "text/plain": [
              "RadioButtons(description='Gender:', options=('Male', 'Female', 'Other'), style=DescriptionStyle(description_wi…"
            ],
            "application/vnd.jupyter.widget-view+json": {
              "version_major": 2,
              "version_minor": 0,
              "model_id": "e58c1bf100a04eb78404de7ee5c58dd8"
            }
          },
          "metadata": {}
        },
        {
          "output_type": "display_data",
          "data": {
            "text/plain": [
              "RadioButtons(description='Smoker:', options=('Yes', 'No'), style=DescriptionStyle(description_width='initial')…"
            ],
            "application/vnd.jupyter.widget-view+json": {
              "version_major": 2,
              "version_minor": 0,
              "model_id": "719abfba59304e3893b5b789e58a1cb5"
            }
          },
          "metadata": {}
        },
        {
          "output_type": "display_data",
          "data": {
            "text/plain": [
              "Button(description='Submit & Predict', style=ButtonStyle())"
            ],
            "application/vnd.jupyter.widget-view+json": {
              "version_major": 2,
              "version_minor": 0,
              "model_id": "ab15ea4fd3a54db5ba9063ba025fc808"
            }
          },
          "metadata": {}
        },
        {
          "output_type": "display_data",
          "data": {
            "text/plain": [
              "Output()"
            ],
            "application/vnd.jupyter.widget-view+json": {
              "version_major": 2,
              "version_minor": 0,
              "model_id": "fe48fd57224d4edbb495cc473f6da9b0"
            }
          },
          "metadata": {}
        },
        {
          "output_type": "display_data",
          "data": {
            "text/plain": [
              "Button(description='Clear Output Display', style=ButtonStyle())"
            ],
            "application/vnd.jupyter.widget-view+json": {
              "version_major": 2,
              "version_minor": 0,
              "model_id": "d97f911eee5f4cddbd4405a030620b8d"
            }
          },
          "metadata": {}
        }
      ]
    }
  ]
}